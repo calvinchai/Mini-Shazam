{
 "cells": [
  {
   "cell_type": "code",
   "execution_count": 2,
   "metadata": {},
   "outputs": [],
   "source": [
    "from models import CQTNet"
   ]
  },
  {
   "cell_type": "code",
   "execution_count": 3,
   "metadata": {},
   "outputs": [
    {
     "data": {
      "text/plain": [
       "CQTNet(\n",
       "  (features): Sequential(\n",
       "    (conv0): Conv2d(1, 32, kernel_size=(12, 3), stride=(1, 1), padding=(6, 0), bias=False)\n",
       "    (norm0): BatchNorm2d(32, eps=1e-05, momentum=0.1, affine=True, track_running_stats=True)\n",
       "    (relu0): ReLU(inplace=True)\n",
       "    (conv1): Conv2d(32, 64, kernel_size=(13, 3), stride=(1, 1), dilation=(1, 2), bias=False)\n",
       "    (norm1): BatchNorm2d(64, eps=1e-05, momentum=0.1, affine=True, track_running_stats=True)\n",
       "    (relu1): ReLU(inplace=True)\n",
       "    (pool1): MaxPool2d(kernel_size=(1, 2), stride=(1, 2), padding=(0, 1), dilation=1, ceil_mode=False)\n",
       "    (conv2): Conv2d(64, 64, kernel_size=(13, 3), stride=(1, 1), bias=False)\n",
       "    (norm2): BatchNorm2d(64, eps=1e-05, momentum=0.1, affine=True, track_running_stats=True)\n",
       "    (relu2): ReLU(inplace=True)\n",
       "    (conv3): Conv2d(64, 64, kernel_size=(3, 3), stride=(1, 1), dilation=(1, 2), bias=False)\n",
       "    (norm3): BatchNorm2d(64, eps=1e-05, momentum=0.1, affine=True, track_running_stats=True)\n",
       "    (relu3): ReLU(inplace=True)\n",
       "    (pool3): MaxPool2d(kernel_size=(1, 2), stride=(1, 2), padding=(0, 1), dilation=1, ceil_mode=False)\n",
       "    (conv4): Conv2d(64, 128, kernel_size=(3, 3), stride=(1, 1), bias=False)\n",
       "    (norm4): BatchNorm2d(128, eps=1e-05, momentum=0.1, affine=True, track_running_stats=True)\n",
       "    (relu4): ReLU(inplace=True)\n",
       "    (conv5): Conv2d(128, 128, kernel_size=(3, 3), stride=(1, 1), dilation=(1, 2), bias=False)\n",
       "    (norm5): BatchNorm2d(128, eps=1e-05, momentum=0.1, affine=True, track_running_stats=True)\n",
       "    (relu5): ReLU(inplace=True)\n",
       "    (pool5): MaxPool2d(kernel_size=(1, 2), stride=(1, 2), padding=(0, 1), dilation=1, ceil_mode=False)\n",
       "    (conv6): Conv2d(128, 256, kernel_size=(3, 3), stride=(1, 1), bias=False)\n",
       "    (norm6): BatchNorm2d(256, eps=1e-05, momentum=0.1, affine=True, track_running_stats=True)\n",
       "    (relu6): ReLU(inplace=True)\n",
       "    (conv7): Conv2d(256, 256, kernel_size=(3, 3), stride=(1, 1), dilation=(1, 2), bias=False)\n",
       "    (norm7): BatchNorm2d(256, eps=1e-05, momentum=0.1, affine=True, track_running_stats=True)\n",
       "    (relu7): ReLU(inplace=True)\n",
       "    (pool7): MaxPool2d(kernel_size=(1, 2), stride=(1, 2), padding=(0, 1), dilation=1, ceil_mode=False)\n",
       "    (conv8): Conv2d(256, 512, kernel_size=(3, 3), stride=(1, 1), bias=False)\n",
       "    (norm8): BatchNorm2d(512, eps=1e-05, momentum=0.1, affine=True, track_running_stats=True)\n",
       "    (relu8): ReLU(inplace=True)\n",
       "    (conv9): Conv2d(512, 512, kernel_size=(3, 3), stride=(1, 1), dilation=(1, 2), bias=False)\n",
       "    (norm9): BatchNorm2d(512, eps=1e-05, momentum=0.1, affine=True, track_running_stats=True)\n",
       "    (relu9): ReLU(inplace=True)\n",
       "  )\n",
       "  (pool): AdaptiveMaxPool2d(output_size=(1, 1))\n",
       "  (fc0): Linear(in_features=512, out_features=300, bias=True)\n",
       "  (fc1): Linear(in_features=300, out_features=10000, bias=True)\n",
       ")"
      ]
     },
     "execution_count": 3,
     "metadata": {},
     "output_type": "execute_result"
    }
   ],
   "source": [
    "model = CQTNet()\n",
    "model.load('checkpoints/CQTNet.pth')\n",
    "model.to('cuda')\n"
   ]
  },
  {
   "cell_type": "code",
   "execution_count": 4,
   "metadata": {},
   "outputs": [],
   "source": [
    "import torch"
   ]
  },
  {
   "cell_type": "code",
   "execution_count": 5,
   "metadata": {},
   "outputs": [
    {
     "name": "stderr",
     "output_type": "stream",
     "text": [
      "e:\\cs682\\CQTNet-master\\cqt_loader.py:115: SyntaxWarning: \"is\" with a literal. Did you mean \"==\"?\n",
      "  if self.mode is 'train':\n"
     ]
    }
   ],
   "source": [
    "from cqt_loader import CQT\n",
    "data=CQT('test')\n",
    "dataloaders = torch.utils.data.DataLoader(data, batch_size=1, shuffle=False, num_workers=0)"
   ]
  },
  {
   "cell_type": "code",
   "execution_count": 6,
   "metadata": {},
   "outputs": [],
   "source": []
  },
  {
   "cell_type": "code",
   "execution_count": 6,
   "metadata": {},
   "outputs": [
    {
     "name": "stdout",
     "output_type": "stream",
     "text": [
      "../data/fma_small_wav/062531.wav\n",
      "torch.Size([1, 84, 200])\n"
     ]
    }
   ],
   "source": [
    "fingerprints = []\n",
    "model.eval()\n",
    "k=0\n",
    "for (i, label) in dataloaders:\n",
    "    fingerprint = model(i.to('cuda'))\n",
    "    fingerprints.append(fingerprint[1])\n",
    "    break"
   ]
  },
  {
   "cell_type": "code",
   "execution_count": 15,
   "metadata": {},
   "outputs": [],
   "source": [
    "fingerprints = torch.cat(fingerprints, dim=0)"
   ]
  },
  {
   "cell_type": "code",
   "execution_count": 16,
   "metadata": {},
   "outputs": [],
   "source": [
    "fingerprints = fingerprints.cpu().detach().numpy()"
   ]
  },
  {
   "cell_type": "code",
   "execution_count": null,
   "metadata": {},
   "outputs": [],
   "source": [
    "import numpy as np\n",
    "np.savez('fingerprints.npz', fingerprints=fingerprints)"
   ]
  },
  {
   "cell_type": "code",
   "execution_count": 13,
   "metadata": {},
   "outputs": [
    {
     "name": "stdout",
     "output_type": "stream",
     "text": [
      "tensor([[1.0000, 0.2983, 0.3166, 0.2973, 0.2820, 0.2616, 0.3345, 0.3291, 0.3459,\n",
      "         0.1578],\n",
      "        [0.2983, 1.0000, 0.2310, 0.1897, 0.4196, 0.2790, 0.3648, 0.2355, 0.4599,\n",
      "         0.2745],\n",
      "        [0.3166, 0.2310, 1.0000, 0.0841, 0.5765, 0.4697, 0.5737, 0.3272, 0.5295,\n",
      "         0.3315],\n",
      "        [0.2973, 0.1897, 0.0841, 1.0000, 0.2014, 0.2915, 0.0105, 0.2281, 0.0479,\n",
      "         0.1466],\n",
      "        [0.2820, 0.4196, 0.5765, 0.2014, 1.0000, 0.3836, 0.5430, 0.3151, 0.5215,\n",
      "         0.2462],\n",
      "        [0.2616, 0.2790, 0.4697, 0.2915, 0.3836, 1.0000, 0.4352, 0.3422, 0.4314,\n",
      "         0.3551],\n",
      "        [0.3345, 0.3648, 0.5737, 0.0105, 0.5430, 0.4352, 1.0000, 0.2994, 0.7874,\n",
      "         0.3464],\n",
      "        [0.3291, 0.2355, 0.3272, 0.2281, 0.3151, 0.3422, 0.2994, 1.0000, 0.4434,\n",
      "         0.5128],\n",
      "        [0.3459, 0.4599, 0.5295, 0.0479, 0.5215, 0.4314, 0.7874, 0.4434, 1.0000,\n",
      "         0.3976],\n",
      "        [0.1578, 0.2745, 0.3315, 0.1466, 0.2462, 0.3551, 0.3464, 0.5128, 0.3976,\n",
      "         1.0000]], device='cuda:0', grad_fn=<MmBackward0>)\n"
     ]
    }
   ],
   "source": [
    "a_norm = fingerprints / fingerprints.norm(dim=1)[:, None]\n",
    "b_norm = a_norm\n",
    "res = torch.mm(a_norm, b_norm.transpose(0,1))\n",
    "print(res)\n",
    "#  0.9978 -0.9986 -0.9985\n",
    "# -0.8629  0.9172  0.9172\n",
    "\n",
    "# # -------\n",
    "# # Let's verify with numpy/scipy if our computations are correct:\n",
    "# a_n = a.numpy()\n",
    "# b_n = b.numpy()\n",
    "# res_n = np.zeros((2, 3))\n",
    "# for i in range(2):\n",
    "#     for j in range(3):\n",
    "#         # cos_sim(u, v) = 1 - cos_dist(u, v)\n",
    "#         res_n[i, j] = 1 - spatial.distance.cosine(a_n[i], b_n[j])\n",
    "# print(res_n)\n",
    "# # [[ 0.9978022  -0.99855876 -0.99854881]\n",
    "# #  [-0.86285472  0.91716063  0.9172349 ]]"
   ]
  }
 ],
 "metadata": {
  "kernelspec": {
   "display_name": "ds",
   "language": "python",
   "name": "python3"
  },
  "language_info": {
   "codemirror_mode": {
    "name": "ipython",
    "version": 3
   },
   "file_extension": ".py",
   "mimetype": "text/x-python",
   "name": "python",
   "nbconvert_exporter": "python",
   "pygments_lexer": "ipython3",
   "version": "3.11.5"
  }
 },
 "nbformat": 4,
 "nbformat_minor": 2
}

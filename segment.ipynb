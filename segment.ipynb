{
 "cells": [
  {
   "cell_type": "code",
   "execution_count": 4,
   "metadata": {},
   "outputs": [],
   "source": [
    "from pydub import AudioSegment\n",
    "import random\n",
    "import os\n",
    "from pydub.generators import WhiteNoise\n",
    "\n",
    "def save_one_random_segment(file_paths, segment_length=15000, output_dir='output_segments'):\n",
    "    \"\"\"\n",
    "    Reads each WAV file from the list, extracts one random segment of specified length, and saves it.\n",
    "    \n",
    "    :param file_paths: List of paths to the WAV files.\n",
    "    :param segment_length: Length of each segment in milliseconds.\n",
    "    :param output_dir: Directory to save the output segments.\n",
    "    :return: None\n",
    "    \"\"\"\n",
    "    # Ensure the output directory exists\n",
    "    if not os.path.exists(output_dir):\n",
    "        os.makedirs(output_dir)\n",
    "\n",
    "    for file_path in file_paths:\n",
    "        # Load the audio file\n",
    "        audio = AudioSegment.from_wav(file_path)\n",
    "\n",
    "        # Generate a random start time for the segment\n",
    "        start_time = random.randint(0, len(audio) - segment_length)\n",
    "        segment = audio[start_time:start_time + segment_length]\n",
    "        noise = WhiteNoise().to_audio_segment(duration=len(audio), volume=-30)\n",
    "        audio_with_noise = segment.overlay(noise)\n",
    "\n",
    "        # Apply EQ adjustments (example: reduce low frequencies)\n",
    "        audio_with_noise = audio_with_noise.low_pass_filter(4000)\n",
    "        # Save the segment with the same name in the output directory\n",
    "        base_name = os.path.basename(file_path)\n",
    "        audio_with_noise.export(f\"{output_dir}/{base_name}\", format=\"wav\")\n",
    "\n",
    "# Example usage\n",
    "# file_list = [\"path_to_file1.wav\", \"path_to_file2.wav\", ...]\n",
    "# save_one_random_segment(file_list)\n",
    "\n",
    "all_test_data = open(r\"E:\\cs682\\CQTNet-master\\fma_test.txt\").readlines()\n",
    "for i in range(len(all_test_data)):\n",
    "    all_test_data[i] = all_test_data[i].strip()\n",
    "\n",
    "save_one_random_segment(all_test_data)\n"
   ]
  }
 ],
 "metadata": {
  "kernelspec": {
   "display_name": "ds",
   "language": "python",
   "name": "python3"
  },
  "language_info": {
   "codemirror_mode": {
    "name": "ipython",
    "version": 3
   },
   "file_extension": ".py",
   "mimetype": "text/x-python",
   "name": "python",
   "nbconvert_exporter": "python",
   "pygments_lexer": "ipython3",
   "version": "3.11.5"
  }
 },
 "nbformat": 4,
 "nbformat_minor": 2
}

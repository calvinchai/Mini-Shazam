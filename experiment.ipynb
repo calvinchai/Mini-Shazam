{
 "cells": [
  {
   "cell_type": "code",
   "execution_count": 1,
   "metadata": {},
   "outputs": [],
   "source": [
    "import os\n",
    "import numpy as np\n",
    "import matplotlib.pyplot as plt\n",
    "import torch\n",
    "import importlib\n",
    "import time"
   ]
  },
  {
   "cell_type": "code",
   "execution_count": 2,
   "metadata": {},
   "outputs": [],
   "source": [
    "all_test_data = open(r\"E:\\cs682\\CQTNet-master\\fma_test.txt\").readlines()\n",
    "for i in range(len(all_test_data)):\n",
    "    all_test_data[i] = all_test_data[i].strip()\n",
    "    all_test_data[i] = all_test_data[i].replace('fma_small_wav','fma_noise')"
   ]
  },
  {
   "cell_type": "code",
   "execution_count": 3,
   "metadata": {},
   "outputs": [],
   "source": [
    "import pandas as pd\n",
    "chromaprint_record = pd.DataFrame(columns=['fingerprint','lookup','recall1','recall5','recall10'])\n",
    "rl_record = pd.DataFrame(columns=['fingerprint','lookup','recall1','recall5','recall10'])\n",
    "cqt_record = pd.DataFrame(columns=['fingerprint','lookup','recall1','recall5','recall10'])"
   ]
  },
  {
   "cell_type": "code",
   "execution_count": 4,
   "metadata": {},
   "outputs": [],
   "source": [
    "random_start_int= np.random.randint(0, len(all_test_data)-100)"
   ]
  },
  {
   "cell_type": "code",
   "execution_count": 5,
   "metadata": {},
   "outputs": [],
   "source": [
    "os.chdir(r\"E:\\cs682\\chromaprint\")\n",
    "import chromaprint\n",
    "\n",
    "for i in range(random_start_int, random_start_int+100):\n",
    "    audio_id = os.path.basename(all_test_data[i]).split('.')[0]\n",
    "    start = time.time()\n",
    "    fingerprint = chromaprint.fingerprinting([all_test_data[i]])\n",
    "    \n",
    "    end = time.time()\n",
    "    chromaprint_record.loc[i,'fingerprint'] = end-start\n",
    "    start = time.time()\n",
    "    result = chromaprint.lookup(fingerprint)\n",
    "    end = time.time()\n",
    "    chromaprint_record.loc[i,'lookup'] = end-start\n",
    "    audio_id= int(audio_id)\n",
    "    for k in [1,5,10]:\n",
    "        chromaprint_record.loc[i,'recall'+str(k)]= audio_id in result[0][:k] \n",
    "chromaprint_record.to_csv('chromaprint_record_noise.csv')"
   ]
  },
  {
   "cell_type": "code",
   "execution_count": null,
   "metadata": {},
   "outputs": [],
   "source": [
    "os.chdir(r\"E:\\cs682\\rl\")\n",
    "from rl import interface\n",
    "\n",
    "for i in range(random_start_int, random_start_int+100):\n",
    "    audio_id = os.path.basename(all_test_data[i]).split('.')[0]\n",
    "    start = time.time()\n",
    "    fingerprint = interface.fingerprinting([all_test_data[i]])\n",
    "    \n",
    "    end = time.time()\n",
    "    rl_record.loc[i,'fingerprint'] = end-start\n",
    "    start = time.time()\n",
    "    result = interface.lookup(fingerprint)\n",
    "    end = time.time()\n",
    "    rl_record.loc[i,'lookup'] = end-start\n",
    "    audio_id= int(audio_id)\n",
    "    for k in [1,5,10]:\n",
    "        rl_record.loc[i,'recall'+str(k)]=np.sum(result[0][:k]==audio_id)\n",
    "rl_record.to_csv('rl_record.csv')"
   ]
  },
  {
   "cell_type": "code",
   "execution_count": 8,
   "metadata": {},
   "outputs": [
    {
     "name": "stdout",
     "output_type": "stream",
     "text": [
      "0.24\n"
     ]
    }
   ],
   "source": [
    "# print recall1 recall5 recall10\n",
    "print(cqt_record['recall5'].mean())"
   ]
  },
  {
   "cell_type": "code",
   "execution_count": 6,
   "metadata": {},
   "outputs": [],
   "source": [
    "os.chdir(r\"E:\\cs682\\CQTNet\")\n",
    "from CQTNet import cqtnet\n",
    "\n",
    "for i in range(random_start_int, random_start_int+100):\n",
    "    audio_id = os.path.basename(all_test_data[i]).split('.')[0]\n",
    "    start = time.time()\n",
    "    fingerprint = cqtnet.fingerprinting([all_test_data[i]])\n",
    "    \n",
    "    end = time.time()\n",
    "    cqt_record.loc[i,'fingerprint'] = end-start\n",
    "    start = time.time()\n",
    "    result = cqtnet.lookup(fingerprint)\n",
    "    end = time.time()\n",
    "    cqt_record.loc[i,'lookup'] = end-start\n",
    "    audio_id= int(audio_id)\n",
    "    for k in [1,5,10]:\n",
    "        cqt_record.loc[i,'recall'+str(k)]=audio_id in result[0][:k]\n",
    "cqt_record.to_csv('cqt_record_noise.csv')"
   ]
  },
  {
   "cell_type": "code",
   "execution_count": null,
   "metadata": {},
   "outputs": [],
   "source": [
    "os.chdir(r\"E:\\cs682\")"
   ]
  }
 ],
 "metadata": {
  "kernelspec": {
   "display_name": "ds",
   "language": "python",
   "name": "python3"
  },
  "language_info": {
   "codemirror_mode": {
    "name": "ipython",
    "version": 3
   },
   "file_extension": ".py",
   "mimetype": "text/x-python",
   "name": "python",
   "nbconvert_exporter": "python",
   "pygments_lexer": "ipython3",
   "version": "3.11.5"
  }
 },
 "nbformat": 4,
 "nbformat_minor": 2
}
